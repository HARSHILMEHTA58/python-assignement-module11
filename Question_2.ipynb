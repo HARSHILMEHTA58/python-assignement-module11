{
  "metadata": {
    "kernelspec": {
      "name": "python",
      "display_name": "Python (Pyodide)",
      "language": "python"
    },
    "language_info": {
      "codemirror_mode": {
        "name": "python",
        "version": 3
      },
      "file_extension": ".py",
      "mimetype": "text/x-python",
      "name": "python",
      "nbconvert_exporter": "python",
      "pygments_lexer": "ipython3",
      "version": "3.8"
    }
  },
  "nbformat_minor": 4,
  "nbformat": 4,
  "cells": [
    {
      "cell_type": "markdown",
      "source": "Name the four pillars of OOPs.",
      "metadata": {}
    },
    {
      "cell_type": "markdown",
      "source": "1.Abstaction \n2.Encapsulation\n3.Polymorphism\n4.inheritance",
      "metadata": {}
    }
  ]
}