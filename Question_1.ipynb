{
  "metadata": {
    "kernelspec": {
      "name": "python",
      "display_name": "Python (Pyodide)",
      "language": "python"
    },
    "language_info": {
      "codemirror_mode": {
        "name": "python",
        "version": 3
      },
      "file_extension": ".py",
      "mimetype": "text/x-python",
      "name": "python",
      "nbconvert_exporter": "python",
      "pygments_lexer": "ipython3",
      "version": "3.8"
    }
  },
  "nbformat_minor": 4,
  "nbformat": 4,
  "cells": [
    {
      "cell_type": "markdown",
      "source": "Class : A class is a blueprint for the object.",
      "metadata": {}
    },
    {
      "cell_type": "code",
      "source": "class cars:\n    alternate = \"automobile\"\n    def __init__(self,Type,Brand):\n        self.Type = Type\n        self.Brand = Brand\n        print(self.alternate,self.Type,self.Brand)",
      "metadata": {
        "trusted": true
      },
      "outputs": [],
      "execution_count": 5
    },
    {
      "cell_type": "markdown",
      "source": "Object : It is an instantiation of a class. When class is defined, only the description for the object\nis defined. ",
      "metadata": {}
    },
    {
      "cell_type": "code",
      "source": "obj = cars(\"SUV\",\"TATA\")",
      "metadata": {
        "trusted": true
      },
      "outputs": [
        {
          "name": "stdout",
          "text": "automobile SUV TATA\n",
          "output_type": "stream"
        }
      ],
      "execution_count": 6
    }
  ]
}