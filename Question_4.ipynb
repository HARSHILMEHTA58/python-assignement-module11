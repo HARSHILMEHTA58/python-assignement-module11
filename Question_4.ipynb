{
  "metadata": {
    "kernelspec": {
      "name": "python",
      "display_name": "Python (Pyodide)",
      "language": "python"
    },
    "language_info": {
      "codemirror_mode": {
        "name": "python",
        "version": 3
      },
      "file_extension": ".py",
      "mimetype": "text/x-python",
      "name": "python",
      "nbconvert_exporter": "python",
      "pygments_lexer": "ipython3",
      "version": "3.8"
    }
  },
  "nbformat_minor": 4,
  "nbformat": 4,
  "cells": [
    {
      "cell_type": "markdown",
      "source": "In Object-Oriented Programming (OOP) in Python, self is used as the first parameter in instance methods to refer to the instance of the class. It allows access to the attributes and methods of the class in Python.\n\nUsing \"self\" ensures that each method has access to the instance's attributes and other methods, maintaining the encapsulation and integrity of the instance data.",
      "metadata": {}
    }
  ]
}